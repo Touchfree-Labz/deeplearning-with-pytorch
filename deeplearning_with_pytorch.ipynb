{
  "nbformat": 4,
  "nbformat_minor": 0,
  "metadata": {
    "colab": {
      "provenance": [],
      "gpuType": "T4",
      "authorship_tag": "ABX9TyNfOAz5qTLxcSycI+kWSEZe",
      "include_colab_link": true
    },
    "kernelspec": {
      "name": "python3",
      "display_name": "Python 3"
    },
    "language_info": {
      "name": "python"
    },
    "accelerator": "GPU"
  },
  "cells": [
    {
      "cell_type": "markdown",
      "metadata": {
        "id": "view-in-github",
        "colab_type": "text"
      },
      "source": [
        "<a href=\"https://colab.research.google.com/github/Touchfree-Labz/deeplearning-with-pytorch/blob/main/deeplearning_with_pytorch.ipynb\" target=\"_parent\"><img src=\"https://colab.research.google.com/assets/colab-badge.svg\" alt=\"Open In Colab\"/></a>"
      ]
    },
    {
      "cell_type": "markdown",
      "source": [
        "**TENSORS**\n",
        "\n",
        "\n",
        "*   tensors are multi-diamentional arrays\n",
        "*   similar to numpy arrays and works better on GPUs than numpy arrays\n",
        "*   default data type is float32\n",
        "*   more suitable for deep learning than numpy arrays\n",
        "\n",
        "\n",
        "\n"
      ],
      "metadata": {
        "id": "OrlYZKGviZLj"
      }
    },
    {
      "cell_type": "code",
      "source": [
        "import torch\n"
      ],
      "metadata": {
        "id": "u7-bVbxLe61i"
      },
      "execution_count": 1,
      "outputs": []
    }
  ]
}